{
 "cells": [
  {
   "cell_type": "code",
   "execution_count": null,
   "id": "d886d930-94c7-4066-abe9-04c25063322c",
   "metadata": {},
   "outputs": [],
   "source": [
    "from IPython.core.interactiveshell import InteractiveShell\n",
    "InteractiveShell.ast_node_interactivity = \"all\""
   ]
  },
  {
   "cell_type": "code",
   "execution_count": 1,
   "id": "af5e19fe-9dfc-4b2e-8c1a-2caf8aef2b78",
   "metadata": {},
   "outputs": [
    {
     "ename": "ModuleNotFoundError",
     "evalue": "No module named 'control'",
     "output_type": "error",
     "traceback": [
      "\u001b[0;31m---------------------------------------------------------------------------\u001b[0m",
      "\u001b[0;31mModuleNotFoundError\u001b[0m                       Traceback (most recent call last)",
      "Cell \u001b[0;32mIn[1], line 15\u001b[0m\n\u001b[1;32m     13\u001b[0m \u001b[38;5;28;01mfrom\u001b[39;00m \u001b[38;5;21;01msympy\u001b[39;00m \u001b[38;5;28;01mimport\u001b[39;00m solveset\n\u001b[1;32m     14\u001b[0m \u001b[38;5;66;03m#from lcapy import s, j, omega\u001b[39;00m\n\u001b[0;32m---> 15\u001b[0m \u001b[38;5;28;01mimport\u001b[39;00m \u001b[38;5;21;01mcontrol\u001b[39;00m \u001b[38;5;28;01mas\u001b[39;00m \u001b[38;5;21;01mct\u001b[39;00m \n\u001b[1;32m     16\u001b[0m \u001b[38;5;28;01mfrom\u001b[39;00m \u001b[38;5;21;01mcontrol\u001b[39;00m\u001b[38;5;21;01m.\u001b[39;00m\u001b[38;5;21;01mmatlab\u001b[39;00m \u001b[38;5;28;01mimport\u001b[39;00m \u001b[38;5;241m*\u001b[39m\n\u001b[1;32m     18\u001b[0m C \u001b[38;5;241m=\u001b[39m ct\u001b[38;5;241m.\u001b[39mtf([\u001b[38;5;241m9\u001b[39m], [\u001b[38;5;241m1\u001b[39m]) \n",
      "\u001b[0;31mModuleNotFoundError\u001b[0m: No module named 'control'"
     ]
    }
   ],
   "source": [
    "#from sympy import sequence\n",
    "#from sympy.abc import n\n",
    "#from sympy import oo, exp, dsolve\n",
    "#from sympy import Function, Derivative\n",
    "#from sympy.abc import  t\n",
    "#from sympy import factor, expand\n",
    "import numpy as np\n",
    "from scipy.integrate import solve_ivp\n",
    "import matplotlib.pyplot as plt\n",
    "from sympy import solve\n",
    "from sympy.core.symbol import symbols, Symbol\n",
    "#from sympy.solvers.solveset import nonlinsolve\n",
    "from sympy import solveset\n",
    "#from lcapy import s, j, omega\n",
    "import control as ct \n",
    "from control.matlab import *\n",
    "\n",
    "C = ct.tf([9], [1]) \n",
    "G = ct.tf([1], [1, 1])\n",
    "FG = ct.series(C,G )\n",
    "#print(FG)\n",
    "T = ct.feedback(FG)\n",
    "#print(T)\n",
    "t_eval = np.linspace(0, 2, 100)\n",
    "yout, t_eval2 = step(T, t_eval )\n",
    "\n",
    "fig, ax = plt.subplots()\n",
    "ax.plot(t_eval2, yout)\n",
    "ax.set_ylabel('Response Amplitude')\n",
    "ax.set_xlabel('Time [sec]')\n",
    "ax.set_ylim(0, 1)\n",
    "ax.set_title(f'Step Response in Python')"
   ]
  },
  {
   "cell_type": "code",
   "execution_count": null,
   "id": "ae10743e-55fd-422e-a08f-0ca1df802370",
   "metadata": {},
   "outputs": [],
   "source": [
    "sigma = symbols('sigma', real=True, positive=True)\n",
    "K = symbols('K', real=True, positive=True)\n",
    "w = symbols('omega', real=True, positive=True)\n",
    "s = symbols('s')\n",
    "d = (s + sigma)**2 + w**2\n",
    "d"
   ]
  },
  {
   "cell_type": "code",
   "execution_count": null,
   "id": "a11764fa-ad87-4505-a10d-11b7b22a6b80",
   "metadata": {},
   "outputs": [],
   "source": [
    "solveset(d,s)"
   ]
  },
  {
   "cell_type": "code",
   "execution_count": null,
   "id": "bbc147d9-95ea-4dba-b91b-3d31b36b294c",
   "metadata": {},
   "outputs": [],
   "source": [
    "n= K*w**2\n",
    "H = n/d\n",
    "H"
   ]
  },
  {
   "cell_type": "code",
   "execution_count": null,
   "id": "962c0437-ae1c-4172-82dd-ea811c46b00f",
   "metadata": {},
   "outputs": [],
   "source": [
    "H.subs({w:0})"
   ]
  },
  {
   "cell_type": "code",
   "execution_count": null,
   "id": "b5745f08-ce68-4f2d-96e6-e42bb3f62ae9",
   "metadata": {},
   "outputs": [],
   "source": [
    "H = H.subs({K:2, sigma:1, w : 1})\n",
    "H"
   ]
  },
  {
   "cell_type": "code",
   "execution_count": null,
   "id": "fe98a6c7-7726-4143-ae94-66d899f92d85",
   "metadata": {},
   "outputs": [],
   "source": [
    "K = 2\n",
    "sigma=1\n",
    "w = 1\n",
    "A = np.array([[-2*sigma, -(sigma**2+w**2)],[1,0]])\n",
    "B = np.array([[K*w**2],[0]])\n"
   ]
  },
  {
   "cell_type": "code",
   "execution_count": null,
   "id": "bd55180e-1fdb-49d6-98db-6dc18d9d0180",
   "metadata": {},
   "outputs": [],
   "source": [
    "H = tf([K*w**2],[1, 2*sigma, sigma**2+w**2])\n"
   ]
  },
  {
   "cell_type": "code",
   "execution_count": null,
   "id": "656528e4-12c8-459a-aee8-16e76c99bec5",
   "metadata": {},
   "outputs": [],
   "source": [
    "from lcapy import s, j, transfer \n",
    "K = 2\n",
    "sigma=1\n",
    "w = 1\n",
    "H = K*w**2 / (w**2 + (s+sigma)**2)\n",
    "H\n"
   ]
  },
  {
   "cell_type": "code",
   "execution_count": null,
   "id": "ad0b999c-0f25-46b7-a987-ead3edc1eff6",
   "metadata": {},
   "outputs": [],
   "source": [
    "H.poles()\n",
    "#H.state_equations()"
   ]
  },
  {
   "cell_type": "code",
   "execution_count": null,
   "id": "e93acbf7-ad7f-4f94-8efa-65b5715eb9ce",
   "metadata": {},
   "outputs": [],
   "source": [
    "H = transfer(K*w**2 / (w**2 + (s+sigma)**2))\n",
    "H\n",
    "#H.state_equations()"
   ]
  },
  {
   "cell_type": "code",
   "execution_count": null,
   "id": "9a2d5f97-1163-4c4e-b167-ed3f40da59ba",
   "metadata": {},
   "outputs": [],
   "source": []
  },
  {
   "cell_type": "code",
   "execution_count": null,
   "id": "55cefe53-05d9-4950-827b-179af7e5b27e",
   "metadata": {},
   "outputs": [],
   "source": []
  },
  {
   "cell_type": "code",
   "execution_count": null,
   "id": "a4f636a9-1667-4d22-a3a7-69d94e41a0c7",
   "metadata": {},
   "outputs": [],
   "source": []
  }
 ],
 "metadata": {
  "kernelspec": {
   "display_name": "Python 3.12",
   "language": "python",
   "name": "py312"
  },
  "language_info": {
   "codemirror_mode": {
    "name": "ipython",
    "version": 3
   },
   "file_extension": ".py",
   "mimetype": "text/x-python",
   "name": "python",
   "nbconvert_exporter": "python",
   "pygments_lexer": "ipython3",
   "version": "3.12.4"
  }
 },
 "nbformat": 4,
 "nbformat_minor": 5
}
